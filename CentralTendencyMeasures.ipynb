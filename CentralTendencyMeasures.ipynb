{
 "cells": [
  {
   "cell_type": "markdown",
   "metadata": {},
   "source": [
    "# Central Tendency Measures for grouped data"
   ]
  },
  {
   "cell_type": "code",
   "execution_count": 93,
   "metadata": {},
   "outputs": [],
   "source": [
    "import numpy as np\n",
    "import pandas as pd\n",
    "import matplotlib.pyplot as plt"
   ]
  },
  {
   "cell_type": "markdown",
   "metadata": {},
   "source": [
    "### Mean formula\n",
    "$$\n",
    "\\text{ Sample mean: } \\overline{x}\\\\\n",
    "\\text{ Population mean or mu: } \\mu\\\\\n",
    "\\text{ observations number: } n\\\\\n",
    "\\\\\n",
    "\\overline{x}= \\mu = \\frac{\\sum\\limits_{i=1}^nX_{i}}{n}\\\\\n",
    "$$\n",
    "### Median formula for grouped data\n",
    "(Take observation in the middle for odd observations number. For even observations number, take two observations in the middle and divide by two).\n",
    "$$\n",
    "\\text{ Median definitions: } M, Med, \\tilde{x}\\\\\n",
    "\\text{ For odd observations number: } \\tilde{x} = (\\frac{n+1}{2})th \\text{ observation } \\\\\n",
    "\\text{ For even observations number: } \\tilde{x} = (\\frac{\\frac{n}{2}+(\\frac{n}{2}+1)}{2})th \\text{ observation } \\\\\n",
    "$$\n",
    "### Mode - most met observation value. \n",
    "Important: multiple mode values are possible, f.e for observation set {0,1,1,2,3,4,4,5), 1 and 4 would be both mode values"
   ]
  },
  {
   "cell_type": "code",
   "execution_count": 94,
   "metadata": {},
   "outputs": [],
   "source": [
    "def getMedian(observations):\n",
    "    size = len(observations)\n",
    "    sortedObservations = np.sort(observations)\n",
    "    if (size % 2) == 0:\n",
    "        index1 = int(size/2)\n",
    "        index2 = index1+1\n",
    "        return (sortedObservations[index1]+sortedObservations[index2])/2\n",
    "    else:\n",
    "        medianObservation = int((size+1)/2)\n",
    "        return sortedObservations[medianObservation]"
   ]
  },
  {
   "cell_type": "code",
   "execution_count": 119,
   "metadata": {
    "scrolled": true
   },
   "outputs": [],
   "source": [
    "def plotHistogram(mu, sigma, n, subplot):\n",
    "    data = np.random.normal(mu,sigma, n)\n",
    "    subplot.title.set_text(\"Sample size\" +str(n))\n",
    "    subplot.hist(data)\n",
    "    subplot.axvline(data.mean(), color='green', )\n",
    "    subplot.axvline(getMedian(data), color='red')\n",
    "    subplot.legend([\"Mean\", \"Median\", \"Histogram\"])"
   ]
  },
  {
   "cell_type": "code",
   "execution_count": 131,
   "metadata": {
    "scrolled": true
   },
   "outputs": [
    {
     "data": {
      "image/png": "[encoded data removed]",
      "text/plain": [
       "<Figure size 1440x360 with 3 Axes>"
      ]
     },
     "metadata": {
      "needs_background": "light"
     },
     "output_type": "display_data"
    }
   ],
   "source": [
    "fig,ax=plt.subplots(1,3,figsize=(20,5))\n",
    "np.random.seed(17)# So that graphic is same at next call\n",
    "plotHistogram(0,5,10,ax[0])\n",
    "plotHistogram(0,5,20,ax[1])\n",
    "plotHistogram(0,5,40,ax[2])\n"
   ]
  },
  {
   "cell_type": "markdown",
   "metadata": {},
   "source": [
    "Outcome: for small samples of normal distribution without outliers mean and median seem to have similar efficiency.\n",
    "Mean seems to be better in most cases"
   ]
  },
  {
   "cell_type": "code",
   "execution_count": null,
   "metadata": {},
   "outputs": [],
   "source": []
  },
  {
   "cell_type": "code",
   "execution_count": null,
   "metadata": {},
   "outputs": [],
   "source": []
  }
 ],
 "metadata": {
  "kernelspec": {
   "display_name": "Python 3",
   "language": "python",
   "name": "python3"
  },
  "language_info": {
   "codemirror_mode": {
    "name": "ipython",
    "version": 3
   },
   "file_extension": ".py",
   "mimetype": "text/x-python",
   "name": "python",
   "nbconvert_exporter": "python",
   "pygments_lexer": "ipython3",
   "version": "3.8.2"
  }
 },
 "nbformat": 4,
 "nbformat_minor": 4
}
